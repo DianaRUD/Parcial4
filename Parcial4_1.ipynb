{
  "nbformat": 4,
  "nbformat_minor": 0,
  "metadata": {
    "colab": {
      "provenance": [],
      "authorship_tag": "ABX9TyNk1lF7gHHvbRmXtGsTEv5J",
      "include_colab_link": true
    },
    "kernelspec": {
      "name": "python3",
      "display_name": "Python 3"
    },
    "language_info": {
      "name": "python"
    }
  },
  "cells": [
    {
      "cell_type": "markdown",
      "metadata": {
        "id": "view-in-github",
        "colab_type": "text"
      },
      "source": [
        "<a href=\"https://colab.research.google.com/github/DianaRUD/Parcial4/blob/main/Parcial4_1.ipynb\" target=\"_parent\"><img src=\"https://colab.research.google.com/assets/colab-badge.svg\" alt=\"Open In Colab\"/></a>"
      ]
    },
    {
      "cell_type": "code",
      "source": [
        "__authors__    = \"Diana Carolina Rodriguez Botina , PhD\"\n",
        "__code__   = [\"Codigo: 20212678016, PhD\"]\n",
        "__copyright_amp__ = \"(c) Diana Carolina Rodriguez Botina\"\n",
        "__email__   = \"dcrodriguezb@correo.udistrital.edu.co\""
      ],
      "metadata": {
        "id": "EFTfy0-KW0XD"
      },
      "execution_count": 1,
      "outputs": []
    },
    {
      "cell_type": "markdown",
      "source": [
        "# **Parcial 4 punto 1**"
      ],
      "metadata": {
        "id": "6DtlSuIMXMik"
      }
    }
  ]
}